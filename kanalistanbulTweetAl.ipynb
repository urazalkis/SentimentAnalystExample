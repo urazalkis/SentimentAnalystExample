{
 "cells": [
  {
   "cell_type": "code",
   "execution_count": 1,
   "metadata": {},
   "outputs": [],
   "source": [
    "from selenium.webdriver.common.keys import Keys\n",
    "from selenium import webdriver\n",
    "import time\n",
    "import xlwt \n",
    "from xlwt import Workbook\n",
    "from textblob import TextBlob\n",
    "import string \n",
    "import requests\n",
    "from http import cookiejar\n",
    "from google_trans_new import google_translator  \n",
    "class BlockAll(cookiejar.CookiePolicy):\n",
    "    return_ok = set_ok = domain_return_ok = path_return_ok = lambda self, *args, **kwargs: False\n",
    "    netscape = True\n",
    "    rfc2965 = hide_cookie2 = False\n",
    "s = requests.Session()\n",
    "s.cookies.set_policy(BlockAll())    "
   ]
  },
  {
   "cell_type": "code",
   "execution_count": 2,
   "metadata": {},
   "outputs": [],
   "source": [
    "driver_path = r\"D:\\chromedriver.exe\"\n",
    "browser = webdriver.Chrome(executable_path=driver_path)\n",
    "\n",
    "browser.get(\"https://twitter.com/?lang=tr\")\n",
    "time.sleep(3)\n",
    "\n",
    "giris_yap = browser.find_element_by_xpath(\"//*[@id='react-root']/div/div/div/main/div/div/div/div[1]/div/a[2]/div\")\n",
    "\n",
    "giris_yap.click()\n",
    "time.sleep(3)\n",
    "\n",
    "username = browser.find_element_by_xpath(\"//*[@id='react-root']/div/div/div[2]/main/div/div/div[1]/form/div/div[1]/label/div/div[2]/div/input\")\n",
    "password = browser.find_element_by_xpath(\"//*[@id='react-root']/div/div/div[2]/main/div/div/div[1]/form/div/div[2]/label/div/div[2]/div/input\")\n",
    "email = \"05457698820\" # twitter giriş email in ya da telefonun falan\n",
    "sifre = \"\"\n",
    "username.send_keys(email)\n",
    "password.send_keys(sifre)\n",
    "time.sleep(3)\n",
    "\n",
    "# import loginInfo\n",
    "# username.send_keys(loginInfo.username)\n",
    "# password.send_keys(loginInfo.password)\n",
    "\n",
    "login = browser.find_element_by_xpath(\"//*[@id='react-root']/div/div/div[2]/main/div/div/div[1]/form/div/div[3]/div/div/span/span\")\n",
    "login.click()\n",
    "time.sleep(3)\n",
    "\n",
    "# browser.close()"
   ]
  },
  {
   "cell_type": "code",
   "execution_count": 3,
   "metadata": {},
   "outputs": [],
   "source": [
    "#hashtage arama\n",
    "searchArea = browser.find_element_by_xpath(\"/html/body/div/div/div/div/main/div/div/div/div[2]/div/div[2]/div/div/div/div[1]/div/div/div/form/div[1]/div/div/div[2]/input\")\n",
    "searchArea.send_keys(\"#kanalistanbul,SINCE:2020-06-01 UNTIL:2020-08-17\")\n",
    "searchArea.send_keys(Keys.ENTER)\n",
    "time.sleep(3)"
   ]
  },
  {
   "cell_type": "code",
   "execution_count": 4,
   "metadata": {},
   "outputs": [],
   "source": [
    "#Tüm tweetleri çekmek ve kaydetmek\n",
    "tweets = []\n",
    "cleaned_tweets=[]\n",
    "tweetsEN=[]\n",
    "\n",
    "    \n",
    "lenOfPage = browser.execute_script(\"window.scrollTo(0, document.body.scrollHeight);var lenOfPage=document.body.scrollHeight;return lenOfPage;\")\n",
    "match=False\n",
    "while(match==False):\n",
    "    lastCount = lenOfPage\n",
    "    time.sleep(2)\n",
    "    \n",
    "    elements = browser.find_elements_by_css_selector(\".css-901oao.r-18jsvk2.r-1qd0xha.r-a023e6.r-16dba41.r-ad9z0x.r-bcqeeo.r-bnwqim.r-qvutc0\")\n",
    "\n",
    "    for element in elements:\n",
    "        tweets.append(element.text)\n",
    "       \n",
    "    lenOfPage = browser.execute_script(\"window.scrollTo(0, document.body.scrollHeight);var lenOfPage=document.body.scrollHeight;return lenOfPage;\")\n",
    "    if lastCount == lenOfPage:\n",
    "        match=True\n",
    "time.sleep(3)\n",
    "\n",
    "\n"
   ]
  },
  {
   "cell_type": "code",
   "execution_count": 5,
   "metadata": {},
   "outputs": [],
   "source": [
    "for tweet in tweets:\n",
    "    lower_case = tweet.lower()\n",
    "    cleaned_text=lower_case.translate(str.maketrans('','',string.punctuation))\n",
    "    cleaned_tweets.append(cleaned_text)\n",
    "   \n",
    "    "
   ]
  },
  {
   "cell_type": "code",
   "execution_count": 6,
   "metadata": {},
   "outputs": [
    {
     "name": "stdout",
     "output_type": "stream",
     "text": [
      "hata1\n",
      "hata2\n",
      "hata3\n",
      "hata4\n",
      "hata5\n",
      "hata6\n",
      "hata7\n",
      "hata8\n",
      "hata9\n",
      "hata10\n",
      "hata11\n"
     ]
    }
   ],
   "source": [
    " i=1\n",
    "for tweet in cleaned_tweets:\n",
    "    try:\n",
    "        translator = google_translator() \n",
    "        result = translator.translate(tweet, lang_tgt='en')\n",
    "        emotion=TextBlob(result)\n",
    "        tweetsEN.append(result+';'+str(emotion.polarity))\n",
    "        \n",
    "    except:\n",
    "    \n",
    "        print('hata'+str(i))\n",
    "        i+=1\n",
    "        pass\n",
    "\n",
    "       \n",
    "       \n"
   ]
  },
  {
   "cell_type": "code",
   "execution_count": 7,
   "metadata": {},
   "outputs": [],
   "source": [
    "wb = Workbook() \n",
    "  # add_sheet is used to create sheet. \n",
    "sheet1 = wb.add_sheet('Sheet 1') \n",
    "\n",
    "tweetCount=0\n",
    "for tweet in tweetsEN:\n",
    "    sheet1.write(tweetCount,0, str(tweet))\n",
    "    tweetCount+=1\n",
    "\n",
    "wb.save('kanalistanbuldataEN_17.xls')\n",
    "\n"
   ]
  },
  {
   "cell_type": "code",
   "execution_count": null,
   "metadata": {},
   "outputs": [],
   "source": [
    "tweetCount = 1\n",
    "with open(\"tweetler5.Text\",\"w\", encoding = \"utf-8-sig\") as file:\n",
    "    for tweet in tweetsEN:\n",
    "        file.write(str(tweetCount) + \".\\n\" + str(tweet) + \"\\n\")\n",
    "        file.write(\"*********************\\n\")\n",
    "        tweetCount += 1"
   ]
  },
  {
   "cell_type": "code",
   "execution_count": null,
   "metadata": {},
   "outputs": [],
   "source": [
    "for tweet in cleaned_tweets:\n",
    "        translator = google_translator() \n",
    "        result = translator.translate(tweet, lang_tgt='en')\n",
    "        emotion=TextBlob(result)\n",
    "        tweetsEN.append(result+';'+str(emotion.polarity))\n",
    "        "
   ]
  },
  {
   "cell_type": "code",
   "execution_count": null,
   "metadata": {},
   "outputs": [],
   "source": [
    "for tweet in cleaned_tweets:\n",
    "        blob = TextBlob(tweet)\n",
    "        result = blob.translate(to='en')\n",
    "        emotion=TextBlob(result)\n",
    "        tweetsEN.append(result+';'+str(emotion.polarity))"
   ]
  }
 ],
 "metadata": {
  "kernelspec": {
   "display_name": "Python 3",
   "language": "python",
   "name": "python3"
  },
  "language_info": {
   "codemirror_mode": {
    "name": "ipython",
    "version": 3
   },
   "file_extension": ".py",
   "mimetype": "text/x-python",
   "name": "python",
   "nbconvert_exporter": "python",
   "pygments_lexer": "ipython3",
   "version": "3.7.0"
  }
 },
 "nbformat": 4,
 "nbformat_minor": 4
}
